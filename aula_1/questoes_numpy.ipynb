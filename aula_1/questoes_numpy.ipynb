{
 "cells": [
  {
   "cell_type": "code",
   "execution_count": 28,
   "metadata": {},
   "outputs": [],
   "source": [
    "import numpy as np"
   ]
  },
  {
   "cell_type": "markdown",
   "metadata": {},
   "source": [
    "Crie um array com 4 linhas e 3 colunas comvalores aleatórios."
   ]
  },
  {
   "cell_type": "code",
   "execution_count": 29,
   "metadata": {},
   "outputs": [
    {
     "data": {
      "text/plain": [
       "array([[0.97083609, 0.08200066, 0.29169355],\n",
       "       [0.83808514, 0.98590297, 0.14652859],\n",
       "       [0.35959962, 0.74937971, 0.27287949],\n",
       "       [0.28008747, 0.75206756, 0.83232723]])"
      ]
     },
     "execution_count": 29,
     "metadata": {},
     "output_type": "execute_result"
    }
   ],
   "source": [
    "np.random.random((4,3))"
   ]
  },
  {
   "cell_type": "markdown",
   "metadata": {},
   "source": [
    "Crie um Array com 5 colunas e 10 linhas inicializados com zeros."
   ]
  },
  {
   "cell_type": "code",
   "execution_count": 30,
   "metadata": {},
   "outputs": [
    {
     "data": {
      "text/plain": [
       "array([[0., 0., 0., 0., 0.],\n",
       "       [0., 0., 0., 0., 0.],\n",
       "       [0., 0., 0., 0., 0.],\n",
       "       [0., 0., 0., 0., 0.],\n",
       "       [0., 0., 0., 0., 0.],\n",
       "       [0., 0., 0., 0., 0.],\n",
       "       [0., 0., 0., 0., 0.],\n",
       "       [0., 0., 0., 0., 0.],\n",
       "       [0., 0., 0., 0., 0.],\n",
       "       [0., 0., 0., 0., 0.]])"
      ]
     },
     "execution_count": 30,
     "metadata": {},
     "output_type": "execute_result"
    }
   ],
   "source": [
    "np.zeros((10,5))"
   ]
  },
  {
   "cell_type": "markdown",
   "metadata": {},
   "source": [
    "Crie um array com valores inteiros 3 linhas e 5 colunas com valores aleatorios."
   ]
  },
  {
   "cell_type": "code",
   "execution_count": 31,
   "metadata": {},
   "outputs": [
    {
     "data": {
      "text/plain": [
       "array([[15, 24, 21,  6, 15],\n",
       "       [13, 28, 20, 21,  8],\n",
       "       [19, 22, 13,  6, 22]])"
      ]
     },
     "execution_count": 31,
     "metadata": {},
     "output_type": "execute_result"
    }
   ],
   "source": [
    "np.random.randint(30,size=(3,5))"
   ]
  },
  {
   "cell_type": "markdown",
   "metadata": {},
   "source": [
    "### Crie um Array com 3 dimensões"
   ]
  },
  {
   "cell_type": "code",
   "execution_count": 32,
   "metadata": {},
   "outputs": [],
   "source": [
    "arr1_2d = np.array([[1, 2], [3,4]]) \n",
    "arr2_2d = np.array([[5, 6], [7,8]]) \n",
    "arr3_2d = np.array([[9, 2], [3,4]]) \n",
    "\n",
    "arr_3d = np.array([arr1_2d, arr2_2d,arr3_2d])"
   ]
  },
  {
   "cell_type": "code",
   "execution_count": 33,
   "metadata": {},
   "outputs": [
    {
     "data": {
      "text/plain": [
       "array([[1, 2],\n",
       "       [3, 4]])"
      ]
     },
     "execution_count": 33,
     "metadata": {},
     "output_type": "execute_result"
    }
   ],
   "source": [
    "arr1_2d"
   ]
  },
  {
   "cell_type": "code",
   "execution_count": 34,
   "metadata": {},
   "outputs": [
    {
     "data": {
      "text/plain": [
       "array([[[1, 2],\n",
       "        [3, 4]],\n",
       "\n",
       "       [[5, 6],\n",
       "        [7, 8]],\n",
       "\n",
       "       [[9, 2],\n",
       "        [3, 4]]])"
      ]
     },
     "execution_count": 34,
     "metadata": {},
     "output_type": "execute_result"
    }
   ],
   "source": [
    "arr_3d"
   ]
  },
  {
   "cell_type": "code",
   "execution_count": 35,
   "metadata": {},
   "outputs": [
    {
     "data": {
      "text/plain": [
       "array([[[0., 0.],\n",
       "        [0., 0.],\n",
       "        [0., 0.],\n",
       "        [0., 0.]],\n",
       "\n",
       "       [[0., 0.],\n",
       "        [0., 0.],\n",
       "        [0., 0.],\n",
       "        [0., 0.]],\n",
       "\n",
       "       [[0., 0.],\n",
       "        [0., 0.],\n",
       "        [0., 0.],\n",
       "        [0., 0.]]])"
      ]
     },
     "execution_count": 35,
     "metadata": {},
     "output_type": "execute_result"
    }
   ],
   "source": [
    "np.zeros((3,4,2))"
   ]
  },
  {
   "cell_type": "markdown",
   "metadata": {},
   "source": [
    "#### Crie um array que irá representar a cartilha de um bingo. Os numeros das suas cartelas variam entre 1 e 30, e vorcê terá 10 participantes. Cada cartela terá 12 números (4,3)"
   ]
  },
  {
   "cell_type": "code",
   "execution_count": 36,
   "metadata": {},
   "outputs": [
    {
     "data": {
      "text/plain": [
       "array([[[24, 12, 19],\n",
       "        [ 5, 15,  7],\n",
       "        [ 7, 21, 20],\n",
       "        [ 1, 22, 17]],\n",
       "\n",
       "       [[10,  3, 30],\n",
       "        [20,  5, 18],\n",
       "        [ 8, 16, 16],\n",
       "        [22, 29, 30]],\n",
       "\n",
       "       [[30, 29, 23],\n",
       "        [ 1, 15, 20],\n",
       "        [25,  6, 25],\n",
       "        [ 6,  7, 20]],\n",
       "\n",
       "       [[17, 26, 15],\n",
       "        [24, 28, 10],\n",
       "        [15, 28,  4],\n",
       "        [11, 27, 21]],\n",
       "\n",
       "       [[23, 21,  4],\n",
       "        [ 6, 25,  8],\n",
       "        [ 4,  9,  1],\n",
       "        [28, 16, 16]],\n",
       "\n",
       "       [[27, 15, 10],\n",
       "        [11,  7, 25],\n",
       "        [11, 27, 25],\n",
       "        [25, 10, 13]],\n",
       "\n",
       "       [[26, 23, 30],\n",
       "        [14, 18, 11],\n",
       "        [30, 10,  8],\n",
       "        [ 1,  1,  7]],\n",
       "\n",
       "       [[12, 20,  5],\n",
       "        [26, 10, 19],\n",
       "        [14, 22, 24],\n",
       "        [30, 16, 19]],\n",
       "\n",
       "       [[ 4, 27,  4],\n",
       "        [ 4, 17,  2],\n",
       "        [29, 17,  2],\n",
       "        [29,  8, 11]],\n",
       "\n",
       "       [[17, 28, 13],\n",
       "        [15, 29, 20],\n",
       "        [28,  7,  9],\n",
       "        [16, 28, 19]]])"
      ]
     },
     "execution_count": 36,
     "metadata": {},
     "output_type": "execute_result"
    }
   ],
   "source": [
    "bingo = np.random.randint(1, 31, size=(10,4,3))\n",
    "bingo\n"
   ]
  },
  {
   "cell_type": "markdown",
   "metadata": {},
   "source": [
    "#### Faça o reshape das suas cartelas para que haja 5 cartelas de 4 linhas e 6 colunas"
   ]
  },
  {
   "cell_type": "code",
   "execution_count": 37,
   "metadata": {},
   "outputs": [
    {
     "data": {
      "text/plain": [
       "array([[[24, 12, 19,  5, 15,  7],\n",
       "        [ 7, 21, 20,  1, 22, 17],\n",
       "        [10,  3, 30, 20,  5, 18],\n",
       "        [ 8, 16, 16, 22, 29, 30]],\n",
       "\n",
       "       [[30, 29, 23,  1, 15, 20],\n",
       "        [25,  6, 25,  6,  7, 20],\n",
       "        [17, 26, 15, 24, 28, 10],\n",
       "        [15, 28,  4, 11, 27, 21]],\n",
       "\n",
       "       [[23, 21,  4,  6, 25,  8],\n",
       "        [ 4,  9,  1, 28, 16, 16],\n",
       "        [27, 15, 10, 11,  7, 25],\n",
       "        [11, 27, 25, 25, 10, 13]],\n",
       "\n",
       "       [[26, 23, 30, 14, 18, 11],\n",
       "        [30, 10,  8,  1,  1,  7],\n",
       "        [12, 20,  5, 26, 10, 19],\n",
       "        [14, 22, 24, 30, 16, 19]],\n",
       "\n",
       "       [[ 4, 27,  4,  4, 17,  2],\n",
       "        [29, 17,  2, 29,  8, 11],\n",
       "        [17, 28, 13, 15, 29, 20],\n",
       "        [28,  7,  9, 16, 28, 19]]])"
      ]
     },
     "execution_count": 37,
     "metadata": {},
     "output_type": "execute_result"
    }
   ],
   "source": [
    "bingo.reshape((5,4,6))"
   ]
  },
  {
   "cell_type": "code",
   "execution_count": 38,
   "metadata": {},
   "outputs": [
    {
     "data": {
      "text/plain": [
       "array([5. , 4.2, 8.2])"
      ]
     },
     "execution_count": 38,
     "metadata": {},
     "output_type": "execute_result"
    }
   ],
   "source": [
    "np.array([5.0, 4.2, 8.2])"
   ]
  },
  {
   "cell_type": "code",
   "execution_count": 39,
   "metadata": {},
   "outputs": [
    {
     "data": {
      "text/plain": [
       "4.0"
      ]
     },
     "execution_count": 39,
     "metadata": {},
     "output_type": "execute_result"
    }
   ],
   "source": [
    "x = np.array([3,4,2.4])\n",
    "x[1]"
   ]
  },
  {
   "cell_type": "code",
   "execution_count": 40,
   "metadata": {},
   "outputs": [
    {
     "data": {
      "text/plain": [
       "array([1, 3, 0])"
      ]
     },
     "execution_count": 40,
     "metadata": {},
     "output_type": "execute_result"
    }
   ],
   "source": [
    "np.array([True,3,False])"
   ]
  },
  {
   "cell_type": "code",
   "execution_count": 41,
   "metadata": {},
   "outputs": [
    {
     "data": {
      "text/plain": [
       "array([3, 4, 2])"
      ]
     },
     "execution_count": 41,
     "metadata": {},
     "output_type": "execute_result"
    }
   ],
   "source": [
    "x.astype(np.int32)"
   ]
  },
  {
   "cell_type": "markdown",
   "metadata": {},
   "source": [
    "### Filtrando Arrays"
   ]
  },
  {
   "cell_type": "code",
   "execution_count": 42,
   "metadata": {},
   "outputs": [
    {
     "data": {
      "text/plain": [
       "array([False, False,  True, False, False])"
      ]
     },
     "execution_count": 42,
     "metadata": {},
     "output_type": "execute_result"
    }
   ],
   "source": [
    "arr1 = np.array([1, 2, 3, 4, 5])\n",
    "mask = arr1 % 3 == 0\n",
    "mask"
   ]
  },
  {
   "cell_type": "code",
   "execution_count": 43,
   "metadata": {},
   "outputs": [
    {
     "data": {
      "text/plain": [
       "array([[ 1, 22],\n",
       "       [ 2, 21],\n",
       "       [ 3, 27],\n",
       "       [ 4, 26]])"
      ]
     },
     "execution_count": 43,
     "metadata": {},
     "output_type": "execute_result"
    }
   ],
   "source": [
    "pessoas_id_idade = np.array([[1,22],[2,21],[3,27],[4,26]]) \n",
    "pessoas_id_idade  "
   ]
  },
  {
   "cell_type": "code",
   "execution_count": 44,
   "metadata": {},
   "outputs": [
    {
     "data": {
      "text/plain": [
       "array([[ 1, 22],\n",
       "       [ 3, 27],\n",
       "       [ 4, 26]])"
      ]
     },
     "execution_count": 44,
     "metadata": {},
     "output_type": "execute_result"
    }
   ],
   "source": [
    "mask_maior21 = pessoas_id_idade[:, 1] > 21\n",
    "pessoas_id_idade[mask_maior21]"
   ]
  },
  {
   "cell_type": "code",
   "execution_count": 45,
   "metadata": {},
   "outputs": [
    {
     "data": {
      "text/plain": [
       "(array([0, 2, 3], dtype=int64),)"
      ]
     },
     "execution_count": 45,
     "metadata": {},
     "output_type": "execute_result"
    }
   ],
   "source": [
    "np.where(mask_maior21)"
   ]
  },
  {
   "cell_type": "markdown",
   "metadata": {},
   "source": [
    "- Usando um index booleano crie um array que contém os dados da maior espécie encontrada(considerando seu tamanho), esse valor corresponde ao valor 22\n",
    "\n",
    "- Usando fency index faça um array que contém apenas dados da espécie ID 297\n",
    "- usando np.where faça um array com a linha com dados correspondentes a espécie com 105 representantes encontrados\n",
    "- considere a profundeza em que o espécie foi encontrada, substitua valores maiores que 60 com \"profundo\"\n",
    "\n"
   ]
  },
  {
   "cell_type": "code",
   "execution_count": 46,
   "metadata": {},
   "outputs": [
    {
     "data": {
      "text/plain": [
       "array([[747,  89,  33,   5],\n",
       "       [623, 123,  32,  13],\n",
       "       [501,  22,  49,   2],\n",
       "       [116, 101,  42,  10],\n",
       "       [297,  56,  69,  22],\n",
       "       [613,  64,  27,   7],\n",
       "       [295,  84,  29,  14],\n",
       "       [692, 105,  72,  16],\n",
       "       [229, 103,  35,   5],\n",
       "       [374, 124,  70,   1]])"
      ]
     },
     "execution_count": 46,
     "metadata": {},
     "output_type": "execute_result"
    }
   ],
   "source": [
    "especies = np.array([[747,  89,  33,  5],\n",
    "                    [623,  123,  32,  13],\n",
    "                    [501,  22,  49,  2],\n",
    "                    [116,  101,  42,  10],\n",
    "                    [297,  56,   69,   22],\n",
    "                    [613,  64,  27,  7],\n",
    "                    [295,  84,   29,   14],\n",
    "                    [692,  105,   72,  16],\n",
    "                    [229,  103,  35,  5],\n",
    "                    [374,  124,  70,  1]])\n",
    "\n",
    "especies\n",
    "                 "
   ]
  },
  {
   "cell_type": "code",
   "execution_count": 47,
   "metadata": {},
   "outputs": [
    {
     "data": {
      "text/plain": [
       "array([[297,  56,  69,  22]])"
      ]
     },
     "execution_count": 47,
     "metadata": {},
     "output_type": "execute_result"
    }
   ],
   "source": [
    "maior_especie = especies[especies[:, 3] == 22]\n",
    "maior_especie"
   ]
  },
  {
   "cell_type": "code",
   "execution_count": 48,
   "metadata": {},
   "outputs": [
    {
     "data": {
      "text/plain": [
       "array([[297,  56,  69,  22]])"
      ]
     },
     "execution_count": 48,
     "metadata": {},
     "output_type": "execute_result"
    }
   ],
   "source": [
    "mask_297 = especies[:, 0] == 297\n",
    "especies[mask_297]\n"
   ]
  },
  {
   "cell_type": "code",
   "execution_count": 49,
   "metadata": {},
   "outputs": [
    {
     "data": {
      "text/plain": [
       "(array([7], dtype=int64),)"
      ]
     },
     "execution_count": 49,
     "metadata": {},
     "output_type": "execute_result"
    }
   ],
   "source": [
    "np.where(especies[:, 1] == 105)"
   ]
  },
  {
   "cell_type": "code",
   "execution_count": 50,
   "metadata": {},
   "outputs": [
    {
     "data": {
      "text/plain": [
       "array([[692, 105,  72,  16]])"
      ]
     },
     "execution_count": 50,
     "metadata": {},
     "output_type": "execute_result"
    }
   ],
   "source": [
    "especies[np.where(especies[:, 1] == 105)]"
   ]
  },
  {
   "cell_type": "code",
   "execution_count": 51,
   "metadata": {},
   "outputs": [
    {
     "data": {
      "text/plain": [
       "array([False, False, False, False,  True, False, False,  True, False,\n",
       "        True])"
      ]
     },
     "execution_count": 51,
     "metadata": {},
     "output_type": "execute_result"
    }
   ],
   "source": [
    "especies[:, 2] > 60"
   ]
  },
  {
   "cell_type": "code",
   "execution_count": 52,
   "metadata": {},
   "outputs": [
    {
     "data": {
      "text/plain": [
       "array(['33', '32', '49', '42', 'Profundo', '27', '29', 'Profundo', '35',\n",
       "       'Profundo'], dtype='<U11')"
      ]
     },
     "execution_count": 52,
     "metadata": {},
     "output_type": "execute_result"
    }
   ],
   "source": [
    "np.where(especies[:, 2] > 60, \"Profundo\", especies[:,2])"
   ]
  },
  {
   "cell_type": "markdown",
   "metadata": {},
   "source": [
    "##### Salvando arrays em arquivos"
   ]
  },
  {
   "cell_type": "code",
   "execution_count": 53,
   "metadata": {},
   "outputs": [
    {
     "data": {
      "text/plain": [
       "array([[1, 2, 3],\n",
       "       [4, 5, 6]])"
      ]
     },
     "execution_count": 53,
     "metadata": {},
     "output_type": "execute_result"
    }
   ],
   "source": [
    "arr2d = np.array([[1, 2, 3], [4, 5, 6]]) \n",
    "arr2d"
   ]
  },
  {
   "cell_type": "code",
   "execution_count": 54,
   "metadata": {},
   "outputs": [],
   "source": [
    "arr3d = np.array([[[1, 2, 3], [4, 5, 6]], [[1, 2, 3], [4, 5, 6]]])\n",
    "arr3d.shape\n",
    "\n",
    "np.savetxt('arr2d.csv', arr2d, delimiter=',')"
   ]
  }
 ],
 "metadata": {
  "kernelspec": {
   "display_name": "venv",
   "language": "python",
   "name": "python3"
  },
  "language_info": {
   "codemirror_mode": {
    "name": "ipython",
    "version": 3
   },
   "file_extension": ".py",
   "mimetype": "text/x-python",
   "name": "python",
   "nbconvert_exporter": "python",
   "pygments_lexer": "ipython3",
   "version": "3.12.0"
  }
 },
 "nbformat": 4,
 "nbformat_minor": 2
}

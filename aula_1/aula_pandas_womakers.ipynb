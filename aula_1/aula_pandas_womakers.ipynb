{
 "cells": [
  {
   "cell_type": "code",
   "execution_count": 1,
   "metadata": {},
   "outputs": [],
   "source": [
    "import pandas as pd"
   ]
  },
  {
   "cell_type": "code",
   "execution_count": 2,
   "metadata": {},
   "outputs": [
    {
     "data": {
      "text/html": [
       "<div>\n",
       "<style scoped>\n",
       "    .dataframe tbody tr th:only-of-type {\n",
       "        vertical-align: middle;\n",
       "    }\n",
       "\n",
       "    .dataframe tbody tr th {\n",
       "        vertical-align: top;\n",
       "    }\n",
       "\n",
       "    .dataframe thead th {\n",
       "        text-align: right;\n",
       "    }\n",
       "</style>\n",
       "<table border=\"1\" class=\"dataframe\">\n",
       "  <thead>\n",
       "    <tr style=\"text-align: right;\">\n",
       "      <th></th>\n",
       "      <th>Região</th>\n",
       "      <th>Estado</th>\n",
       "      <th>Quant Carros</th>\n",
       "      <th>Quant Carros Família com Filhos</th>\n",
       "      <th>População do Estado</th>\n",
       "      <th>Carros por habitante</th>\n",
       "    </tr>\n",
       "  </thead>\n",
       "  <tbody>\n",
       "    <tr>\n",
       "      <th>0</th>\n",
       "      <td>Sul</td>\n",
       "      <td>Acre</td>\n",
       "      <td>4342</td>\n",
       "      <td>1034</td>\n",
       "      <td>23942.0</td>\n",
       "      <td>0.181355</td>\n",
       "    </tr>\n",
       "    <tr>\n",
       "      <th>1</th>\n",
       "      <td>Centro-Oeste</td>\n",
       "      <td>Alagoas</td>\n",
       "      <td>18991</td>\n",
       "      <td>3253</td>\n",
       "      <td>23431.0</td>\n",
       "      <td>0.810507</td>\n",
       "    </tr>\n",
       "    <tr>\n",
       "      <th>2</th>\n",
       "      <td>Sudeste</td>\n",
       "      <td>Amapá</td>\n",
       "      <td>6463</td>\n",
       "      <td>4152</td>\n",
       "      <td>7747.0</td>\n",
       "      <td>0.834258</td>\n",
       "    </tr>\n",
       "    <tr>\n",
       "      <th>3</th>\n",
       "      <td>Centro-Oeste</td>\n",
       "      <td>Amazonas</td>\n",
       "      <td>3180</td>\n",
       "      <td>2955</td>\n",
       "      <td>5189.0</td>\n",
       "      <td>0.612835</td>\n",
       "    </tr>\n",
       "    <tr>\n",
       "      <th>4</th>\n",
       "      <td>Centro-Oeste</td>\n",
       "      <td>Bahia</td>\n",
       "      <td>11288</td>\n",
       "      <td>2585</td>\n",
       "      <td>24118.0</td>\n",
       "      <td>0.468032</td>\n",
       "    </tr>\n",
       "  </tbody>\n",
       "</table>\n",
       "</div>"
      ],
      "text/plain": [
       "         Região    Estado  Quant Carros  Quant Carros Família com Filhos  \\\n",
       "0           Sul      Acre          4342                             1034   \n",
       "1  Centro-Oeste   Alagoas         18991                             3253   \n",
       "2       Sudeste     Amapá          6463                             4152   \n",
       "3  Centro-Oeste  Amazonas          3180                             2955   \n",
       "4  Centro-Oeste     Bahia         11288                             2585   \n",
       "\n",
       "   População do Estado  Carros por habitante  \n",
       "0              23942.0              0.181355  \n",
       "1              23431.0              0.810507  \n",
       "2               7747.0              0.834258  \n",
       "3               5189.0              0.612835  \n",
       "4              24118.0              0.468032  "
      ]
     },
     "execution_count": 2,
     "metadata": {},
     "output_type": "execute_result"
    }
   ],
   "source": [
    "df = pd.read_csv('carros.csv')\n",
    "df.head()"
   ]
  }
 ],
 "metadata": {
  "kernelspec": {
   "display_name": "venv",
   "language": "python",
   "name": "python3"
  },
  "language_info": {
   "codemirror_mode": {
    "name": "ipython",
    "version": 3
   },
   "file_extension": ".py",
   "mimetype": "text/x-python",
   "name": "python",
   "nbconvert_exporter": "python",
   "pygments_lexer": "ipython3",
   "version": "3.12.0"
  }
 },
 "nbformat": 4,
 "nbformat_minor": 2
}
